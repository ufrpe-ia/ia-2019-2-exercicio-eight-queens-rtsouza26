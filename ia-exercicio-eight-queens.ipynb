{
  "nbformat": 4,
  "nbformat_minor": 0,
  "metadata": {
    "kernelspec": {
      "display_name": "Python 3",
      "language": "python",
      "name": "python3"
    },
    "language_info": {
      "codemirror_mode": {
        "name": "ipython",
        "version": 3
      },
      "file_extension": ".py",
      "mimetype": "text/x-python",
      "name": "python",
      "nbconvert_exporter": "python",
      "pygments_lexer": "ipython3",
      "version": "3.7.1"
    },
    "colab": {
      "name": "ia-exercicio-eight-queens.ipynb",
      "version": "0.3.2",
      "provenance": [],
      "include_colab_link": true
    }
  },
  "cells": [
    {
      "cell_type": "markdown",
      "metadata": {
        "id": "view-in-github",
        "colab_type": "text"
      },
      "source": [
        "<a href=\"https://colab.research.google.com/github/ufrpe-ia/ia-2019-2-exercicio-eight-queens-rtsouza26/blob/master/ia-exercicio-eight-queens.ipynb\" target=\"_parent\"><img src=\"https://colab.research.google.com/assets/colab-badge.svg\" alt=\"Open In Colab\"/></a>"
      ]
    },
    {
      "cell_type": "markdown",
      "metadata": {
        "id": "qieqP7Z-dFjh",
        "colab_type": "text"
      },
      "source": [
        "Aluno: Rafael Targino Souza\n",
        "\n",
        "# Exercício: Solucionando o problema das 8 rainhas\n",
        "## Solução 1: força bruta!\n",
        "\n",
        "Varrendo cada linha do tabuleiro e colocando uma rainha por coluna, enquanto checamos a cada passo que duas rainhas não estão na linha de ataque da outra. \n",
        "\n",
        "Dessa forma, a solução avaliará todas as combinações possíveis das oito rainhas no tabuleiro de xadrez e rejeitará os estados inválidos. Quantas combinações de 8 rainhas em um tabuleiro de 64 células são possíveis?\n",
        "\n",
        "A fórmula de combinações é dada por:\n",
        "\n",
        "$C(n,k) = \\frac{n!}{k!\\cdot(n-k)!}$\n",
        "\n",
        "Considerando um tabuleiro de 8 x 8, teríamos:\n",
        "\n",
        "$C(64,8) = \\frac{64!}{8!\\cdot(64-8)!} = 4.426.165.368$ soluções possíveis a serem avaliadas. \n",
        "\n",
        "Considerando que este é um problema que pode ser usado para representar outros \n",
        "[problemas](https://pdfs.semanticscholar.org/79d2/fa13d4a5cfc02ff6936b6083bb620e4e0ce1.pdf) (reais, e.g., VLSI design) \n",
        "que eventualmente pode ter dimensões muito superiores às de um tabuleiro de xadrez, vale a pena analisar como se dá o \n",
        "crescimento deste problema em termos da entrada.\n",
        "\n",
        "### Questão 1\n",
        "Gere um gráfico (utilize o matplotlib) que demonstre a taxa de crescimento da quantidade de soluções possíveis em termos do tamanho do tabuleiro, conforme apresentado acima."
      ]
    },
    {
      "cell_type": "code",
      "metadata": {
        "id": "2rXQBA-NeOJt",
        "colab_type": "code",
        "colab": {}
      },
      "source": [
        ""
      ],
      "execution_count": 0,
      "outputs": []
    },
    {
      "cell_type": "markdown",
      "metadata": {
        "id": "9z-3DMgneOt1",
        "colab_type": "text"
      },
      "source": [
        ""
      ]
    },
    {
      "cell_type": "code",
      "metadata": {
        "id": "VLvs1jDXdFjn",
        "colab_type": "code",
        "colab": {}
      },
      "source": [
        ""
      ],
      "execution_count": 0,
      "outputs": []
    },
    {
      "cell_type": "markdown",
      "metadata": {
        "id": "8bwCTk-WdFjv",
        "colab_type": "text"
      },
      "source": [
        "## Modelando o problema em Python"
      ]
    },
    {
      "cell_type": "code",
      "metadata": {
        "id": "36yyaC25dFjx",
        "colab_type": "code",
        "colab": {},
        "outputId": "e6963861-d9e2-41f7-dcd7-b66f20bbddc1"
      },
      "source": [
        "\"\"\"The n queens puzzle\"\"\"\n",
        "class NQueens:\n",
        "    def __init__(self, size):\n",
        "        # Store the puzzle (problem) size and the number of valid solutions\n",
        "        self.size = size\n",
        "        self.solutions = 0\n",
        "\n",
        "    def solve(self):\n",
        "        return []\n",
        "\n",
        "    def show(self, solution=None):\n",
        "        \"\"\"Show the full NxN board\"\"\"\n",
        "        for row in range(self.size):\n",
        "            line = \"\"\n",
        "            for column in range(self.size):\n",
        "                if solution and solution[row] == column:\n",
        "                    line += \"Q \"\n",
        "                else:\n",
        "                    line += \". \"\n",
        "            print(line)\n",
        "        print(\"\\n\")\n",
        "       \n",
        "# Criando uma instância do problema\n",
        "board = NQueens(8)\n",
        "board.show()"
      ],
      "execution_count": 0,
      "outputs": [
        {
          "output_type": "stream",
          "text": [
            ". . . . . . . . \n",
            ". . . . . . . . \n",
            ". . . . . . . . \n",
            ". . . . . . . . \n",
            ". . . . . . . . \n",
            ". . . . . . . . \n",
            ". . . . . . . . \n",
            ". . . . . . . . \n",
            "\n",
            "\n"
          ],
          "name": "stdout"
        }
      ]
    },
    {
      "cell_type": "markdown",
      "metadata": {
        "id": "udLPRvpNdFj_",
        "colab_type": "text"
      },
      "source": [
        "### Questão 2\n",
        "Implemente a seguinte formulação:\n",
        "\n",
        "- estados: qualquer disposição com n (n ≤ 8) rainhas\n",
        "- operadores: adicionar uma rainha a qualquer quadrado\n",
        "- Verificar se a solução é válida ao final da 'alocação'\n",
        "- 64x63x...x57 = 3x1014 possibilidades"
      ]
    },
    {
      "cell_type": "code",
      "metadata": {
        "id": "Hxed2hP3dFkB",
        "colab_type": "code",
        "colab": {}
      },
      "source": [
        ""
      ],
      "execution_count": 0,
      "outputs": []
    },
    {
      "cell_type": "markdown",
      "metadata": {
        "id": "1ACObtzgdFkF",
        "colab_type": "text"
      },
      "source": [
        "### Questão 3\n",
        "Implemente a seguinte formulação:\n",
        "\n",
        "- estados: disposição com n (n ≤ 8) rainhas sem ataque mútuo (teste gradual)\n",
        "- operadores: adicionar uma rainha na coluna vazia mais à esquerda em que não possa ser atacada\n",
        "- 2057 possibilidades (podendo ficar sem opções de escolha dependendo das operações anteriores)"
      ]
    },
    {
      "cell_type": "code",
      "metadata": {
        "id": "aeO_zoF6dFkH",
        "colab_type": "code",
        "colab": {}
      },
      "source": [
        ""
      ],
      "execution_count": 0,
      "outputs": []
    },
    {
      "cell_type": "markdown",
      "metadata": {
        "id": "cpytLHZ0dFkL",
        "colab_type": "text"
      },
      "source": [
        "### Questão 4\n",
        "Implemente a seguinte formulação:\n",
        "- estados: disposição com 8 rainhas, uma em cada coluna\n",
        "- operadores: mover uma rainha atacada para outra casa na mesma coluna"
      ]
    },
    {
      "cell_type": "code",
      "metadata": {
        "id": "rxAjQliLdFkM",
        "colab_type": "code",
        "colab": {}
      },
      "source": [
        ""
      ],
      "execution_count": 0,
      "outputs": []
    }
  ]
}